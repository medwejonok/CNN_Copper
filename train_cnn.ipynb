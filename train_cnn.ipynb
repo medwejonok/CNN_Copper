{
 "cells": [
  {
   "cell_type": "code",
   "execution_count": 1,
   "metadata": {},
   "outputs": [],
   "source": [
    "import matplotlib.pyplot as plt\n",
    "from tensorflow.keras.models import Model\n",
    "from tensorflow.keras.layers import GlobalAveragePooling2D, Dense\n",
    "from tensorflow.keras.applications import vgg16\n",
    "from tensorflow.keras.optimizers import Adam, SGD\n",
    "import scipy  #Used to upsample our image\n",
    "\n",
    "import os\n",
    "import cv2\n",
    "from PIL import Image\n",
    "import numpy as np\n",
    "\n",
    "from sklearn.model_selection import train_test_split\n",
    "\n",
    "from winsound import Beep"
   ]
  },
  {
   "cell_type": "code",
   "execution_count": 2,
   "metadata": {},
   "outputs": [
    {
     "name": "stdout",
     "output_type": "stream",
     "text": [
      "[PhysicalDevice(name='/physical_device:GPU:0', device_type='GPU')]\n",
      "Memory: 0\n"
     ]
    }
   ],
   "source": [
    "import tensorflow as tf\n",
    "\n",
    "gpus = tf.config.experimental.list_physical_devices('GPU')\n",
    "print(gpus)\n",
    "if gpus:\n",
    "  try:\n",
    "    # Set the GPU as the default device\n",
    "    tf.config.experimental.set_memory_growth(gpus[0], True)\n",
    "\n",
    "    tf.config.experimental.set_visible_devices(gpus[0], 'GPU')\n",
    "\n",
    "  except RuntimeError as e:\n",
    "    print(e)\n",
    "\n",
    "print('Memory:' ,tf.config.experimental.get_memory_info('GPU:0')['current'])"
   ]
  },
  {
   "cell_type": "code",
   "execution_count": 3,
   "metadata": {},
   "outputs": [],
   "source": [
    "\n",
    "defect_path = 'DATA/defects/all/images'\n",
    "normal_path = 'DATA/normal/all/images'\n",
    "\n",
    "size = 128\n",
    "\n",
    "def load_dataset(defect_path, normal_path, size=256):\n",
    "    images_temp = []\n",
    "    labels_temp = []\n",
    "    for file in os.listdir(defect_path):\n",
    "        img = Image.open(os.path.join(defect_path, file))\n",
    "        img = img.resize((size, size))  \n",
    "        img = np.array(img) / 255.0  \n",
    "        images_temp.append(img)\n",
    "        labels_temp.append(1)  \n",
    "\n",
    "    for file in os.listdir(normal_path):\n",
    "        img = Image.open(os.path.join(normal_path, file))\n",
    "        img = img.resize((size, size))  \n",
    "        img = np.array(img) / 255.0  \n",
    "        images_temp.append(img)\n",
    "        labels_temp.append(0) \n",
    "\n",
    "    return np.array(images_temp), np.array(labels_temp)\n",
    "\n",
    "dataset, labels = load_dataset(defect_path, normal_path, size)\n",
    "Beep(1600, 800)"
   ]
  },
  {
   "cell_type": "code",
   "execution_count": 10,
   "metadata": {},
   "outputs": [
    {
     "data": {
      "text/plain": [
       "(3103, 128, 128, 3)"
      ]
     },
     "execution_count": 10,
     "metadata": {},
     "output_type": "execute_result"
    }
   ],
   "source": [
    "dataset.shape"
   ]
  },
  {
   "cell_type": "code",
   "execution_count": 4,
   "metadata": {},
   "outputs": [
    {
     "name": "stdout",
     "output_type": "stream",
     "text": [
      "(2637, 128, 128, 3) (466, 128, 128, 3)\n"
     ]
    }
   ],
   "source": [
    "X_train, X_val, y_train, y_val = train_test_split(dataset, labels, test_size = 0.15)\n",
    "print(X_train.shape, X_val.shape)"
   ]
  },
  {
   "cell_type": "code",
   "execution_count": 5,
   "metadata": {},
   "outputs": [],
   "source": [
    "from tensorflow.keras.utils import to_categorical\n",
    "y_train = to_categorical(y_train)\n",
    "y_val = to_categorical(y_val)"
   ]
  },
  {
   "cell_type": "code",
   "execution_count": 6,
   "metadata": {},
   "outputs": [
    {
     "name": "stdout",
     "output_type": "stream",
     "text": [
      "input_1\n",
      "block1_conv1\n",
      "block1_conv2\n",
      "block1_pool\n",
      "block2_conv1\n",
      "block2_conv2\n",
      "block2_pool\n",
      "block3_conv1\n",
      "block3_conv2\n",
      "block3_conv3\n",
      "block3_pool\n",
      "block4_conv1\n",
      "block4_conv2\n",
      "block4_conv3\n",
      "Model: \"model\"\n",
      "_________________________________________________________________\n",
      " Layer (type)                Output Shape              Param #   \n",
      "=================================================================\n",
      " input_1 (InputLayer)        [(None, 128, 128, 3)]     0         \n",
      "                                                                 \n",
      " block1_conv1 (Conv2D)       (None, 128, 128, 64)      1792      \n",
      "                                                                 \n",
      " block1_conv2 (Conv2D)       (None, 128, 128, 64)      36928     \n",
      "                                                                 \n",
      " block1_pool (MaxPooling2D)  (None, 64, 64, 64)        0         \n",
      "                                                                 \n",
      " block2_conv1 (Conv2D)       (None, 64, 64, 128)       73856     \n",
      "                                                                 \n",
      " block2_conv2 (Conv2D)       (None, 64, 64, 128)       147584    \n",
      "                                                                 \n",
      " block2_pool (MaxPooling2D)  (None, 32, 32, 128)       0         \n",
      "                                                                 \n",
      " block3_conv1 (Conv2D)       (None, 32, 32, 256)       295168    \n",
      "                                                                 \n",
      " block3_conv2 (Conv2D)       (None, 32, 32, 256)       590080    \n",
      "                                                                 \n",
      " block3_conv3 (Conv2D)       (None, 32, 32, 256)       590080    \n",
      "                                                                 \n",
      " block3_pool (MaxPooling2D)  (None, 16, 16, 256)       0         \n",
      "                                                                 \n",
      " block4_conv1 (Conv2D)       (None, 16, 16, 512)       1180160   \n",
      "                                                                 \n",
      " block4_conv2 (Conv2D)       (None, 16, 16, 512)       2359808   \n",
      "                                                                 \n",
      " block4_conv3 (Conv2D)       (None, 16, 16, 512)       2359808   \n",
      "                                                                 \n",
      " block4_pool (MaxPooling2D)  (None, 8, 8, 512)         0         \n",
      "                                                                 \n",
      " block5_conv1 (Conv2D)       (None, 8, 8, 512)         2359808   \n",
      "                                                                 \n",
      " block5_conv2 (Conv2D)       (None, 8, 8, 512)         2359808   \n",
      "                                                                 \n",
      " block5_conv3 (Conv2D)       (None, 8, 8, 512)         2359808   \n",
      "                                                                 \n",
      " block5_pool (MaxPooling2D)  (None, 4, 4, 512)         0         \n",
      "                                                                 \n",
      " global_average_pooling2d (G  (None, 512)              0         \n",
      " lobalAveragePooling2D)                                          \n",
      "                                                                 \n",
      " dense (Dense)               (None, 2)                 1026      \n",
      "                                                                 \n",
      "=================================================================\n",
      "Total params: 14,715,714\n",
      "Trainable params: 7,080,450\n",
      "Non-trainable params: 7,635,264\n",
      "_________________________________________________________________\n",
      "None\n"
     ]
    },
    {
     "name": "stderr",
     "output_type": "stream",
     "text": [
      "c:\\Users\\ataka\\anaconda3\\envs\\ml\\lib\\site-packages\\keras\\optimizers\\optimizer_v2\\gradient_descent.py:111: UserWarning: The `lr` argument is deprecated, use `learning_rate` instead.\n",
      "  super().__init__(name, **kwargs)\n"
     ]
    }
   ],
   "source": [
    "def get_model(input_shape = (224,224,3)):\n",
    "    \n",
    "    vgg = vgg16.VGG16(weights='imagenet', include_top=False, input_shape = input_shape)\n",
    "\n",
    "    #for layer in vgg.layers[:-8]:  #Set block4 and block5 to be trainable. \n",
    "    for layer in vgg.layers[:-5]:    #Set block5 trainable, all others as non-trainable\n",
    "        print(layer.name)\n",
    "        layer.trainable = False #All others as non-trainable.\n",
    "\n",
    "    x = vgg.output\n",
    "    x = GlobalAveragePooling2D()(x) #Use GlobalAveragePooling and NOT flatten. \n",
    "    x = Dense(2, activation=\"softmax\")(x)  #We are defining this as multiclass problem. \n",
    "\n",
    "    model = Model(vgg.input, x)\n",
    "    model.compile(loss = \"categorical_crossentropy\", \n",
    "                  optimizer = SGD(lr=0.0001, momentum=0.9), metrics=[\"accuracy\"])\n",
    "    \n",
    "    return model\n",
    "\n",
    "model = get_model(input_shape = (size,size,3))\n",
    "print(model.summary())"
   ]
  },
  {
   "cell_type": "code",
   "execution_count": 7,
   "metadata": {},
   "outputs": [
    {
     "name": "stdout",
     "output_type": "stream",
     "text": [
      "Epoch 1/100\n",
      "2637/2637 [==============================] - 41s 12ms/step - loss: 0.4015 - accuracy: 0.8142 - val_loss: 0.2655 - val_accuracy: 0.9013\n",
      "Epoch 2/100\n",
      "2637/2637 [==============================] - 31s 12ms/step - loss: 0.2436 - accuracy: 0.9078 - val_loss: 0.2307 - val_accuracy: 0.9034\n",
      "Epoch 3/100\n",
      "2637/2637 [==============================] - 31s 12ms/step - loss: 0.2082 - accuracy: 0.9215 - val_loss: 0.2226 - val_accuracy: 0.9099\n",
      "Epoch 4/100\n",
      "2637/2637 [==============================] - 31s 12ms/step - loss: 0.1903 - accuracy: 0.9261 - val_loss: 0.2366 - val_accuracy: 0.9013\n",
      "Epoch 5/100\n",
      "2637/2637 [==============================] - 31s 12ms/step - loss: 0.1767 - accuracy: 0.9344 - val_loss: 0.2531 - val_accuracy: 0.9077\n",
      "Epoch 6/100\n",
      "2637/2637 [==============================] - 31s 12ms/step - loss: 0.1604 - accuracy: 0.9401 - val_loss: 0.1740 - val_accuracy: 0.9313\n",
      "Epoch 7/100\n",
      "2637/2637 [==============================] - 31s 12ms/step - loss: 0.1475 - accuracy: 0.9427 - val_loss: 0.1517 - val_accuracy: 0.9421\n",
      "Epoch 8/100\n",
      "2637/2637 [==============================] - 31s 12ms/step - loss: 0.1358 - accuracy: 0.9484 - val_loss: 0.2125 - val_accuracy: 0.9099\n",
      "Epoch 9/100\n",
      "2637/2637 [==============================] - 31s 12ms/step - loss: 0.1320 - accuracy: 0.9511 - val_loss: 0.1699 - val_accuracy: 0.9335\n",
      "Epoch 10/100\n",
      "2637/2637 [==============================] - 31s 12ms/step - loss: 0.1305 - accuracy: 0.9499 - val_loss: 0.1331 - val_accuracy: 0.9528\n",
      "Epoch 11/100\n",
      "2637/2637 [==============================] - 31s 12ms/step - loss: 0.1166 - accuracy: 0.9594 - val_loss: 0.2690 - val_accuracy: 0.8948\n",
      "Epoch 12/100\n",
      "2637/2637 [==============================] - 31s 12ms/step - loss: 0.1085 - accuracy: 0.9590 - val_loss: 0.1004 - val_accuracy: 0.9678\n",
      "Epoch 13/100\n",
      "2637/2637 [==============================] - 31s 12ms/step - loss: 0.1110 - accuracy: 0.9587 - val_loss: 0.1181 - val_accuracy: 0.9549\n",
      "Epoch 14/100\n",
      "2637/2637 [==============================] - 31s 12ms/step - loss: 0.1026 - accuracy: 0.9640 - val_loss: 0.1987 - val_accuracy: 0.9185\n",
      "Epoch 15/100\n",
      "2637/2637 [==============================] - 31s 12ms/step - loss: 0.0978 - accuracy: 0.9681 - val_loss: 0.1007 - val_accuracy: 0.9635\n",
      "Epoch 16/100\n",
      "2637/2637 [==============================] - 31s 12ms/step - loss: 0.1035 - accuracy: 0.9628 - val_loss: 0.0989 - val_accuracy: 0.9721\n",
      "Epoch 17/100\n",
      "2637/2637 [==============================] - 31s 12ms/step - loss: 0.0853 - accuracy: 0.9693 - val_loss: 0.0924 - val_accuracy: 0.9742\n",
      "Epoch 18/100\n",
      "2637/2637 [==============================] - 31s 12ms/step - loss: 0.0852 - accuracy: 0.9693 - val_loss: 0.1114 - val_accuracy: 0.9571\n",
      "Epoch 19/100\n",
      "2637/2637 [==============================] - 31s 12ms/step - loss: 0.0735 - accuracy: 0.9746 - val_loss: 0.1334 - val_accuracy: 0.9571\n",
      "Epoch 20/100\n",
      "2637/2637 [==============================] - 31s 12ms/step - loss: 0.0771 - accuracy: 0.9731 - val_loss: 0.1640 - val_accuracy: 0.9464\n",
      "Epoch 21/100\n",
      "2637/2637 [==============================] - 31s 12ms/step - loss: 0.0861 - accuracy: 0.9697 - val_loss: 0.1176 - val_accuracy: 0.9549\n",
      "Epoch 22/100\n",
      "2637/2637 [==============================] - 30s 11ms/step - loss: 0.0673 - accuracy: 0.9772 - val_loss: 0.1208 - val_accuracy: 0.9635\n",
      "Epoch 23/100\n",
      "2637/2637 [==============================] - 30s 11ms/step - loss: 0.0752 - accuracy: 0.9750 - val_loss: 0.0923 - val_accuracy: 0.9721\n",
      "Epoch 24/100\n",
      "2637/2637 [==============================] - 30s 12ms/step - loss: 0.0653 - accuracy: 0.9765 - val_loss: 0.0892 - val_accuracy: 0.9721\n",
      "Epoch 25/100\n",
      "2637/2637 [==============================] - 30s 12ms/step - loss: 0.0660 - accuracy: 0.9761 - val_loss: 0.0738 - val_accuracy: 0.9742\n",
      "Epoch 26/100\n",
      "2637/2637 [==============================] - 30s 11ms/step - loss: 0.0689 - accuracy: 0.9738 - val_loss: 0.0759 - val_accuracy: 0.9764\n",
      "Epoch 27/100\n",
      "2637/2637 [==============================] - 30s 12ms/step - loss: 0.0681 - accuracy: 0.9776 - val_loss: 0.1221 - val_accuracy: 0.9571\n",
      "Epoch 28/100\n",
      "2637/2637 [==============================] - 30s 11ms/step - loss: 0.0627 - accuracy: 0.9769 - val_loss: 0.0900 - val_accuracy: 0.9764\n",
      "Epoch 29/100\n",
      "2637/2637 [==============================] - 31s 12ms/step - loss: 0.0589 - accuracy: 0.9795 - val_loss: 0.0902 - val_accuracy: 0.9764\n",
      "Epoch 30/100\n",
      "2637/2637 [==============================] - 31s 12ms/step - loss: 0.0601 - accuracy: 0.9795 - val_loss: 0.0853 - val_accuracy: 0.9764\n",
      "Epoch 31/100\n",
      "2637/2637 [==============================] - 31s 12ms/step - loss: 0.0522 - accuracy: 0.9829 - val_loss: 0.0754 - val_accuracy: 0.9742\n",
      "Epoch 32/100\n",
      "2637/2637 [==============================] - 31s 12ms/step - loss: 0.0577 - accuracy: 0.9788 - val_loss: 0.1118 - val_accuracy: 0.9700\n",
      "Epoch 33/100\n",
      "2637/2637 [==============================] - 31s 12ms/step - loss: 0.0486 - accuracy: 0.9856 - val_loss: 0.0716 - val_accuracy: 0.9764\n",
      "Epoch 34/100\n",
      "2637/2637 [==============================] - 31s 12ms/step - loss: 0.0530 - accuracy: 0.9814 - val_loss: 0.0776 - val_accuracy: 0.9742\n",
      "Epoch 35/100\n",
      "2637/2637 [==============================] - 31s 12ms/step - loss: 0.0518 - accuracy: 0.9841 - val_loss: 0.0936 - val_accuracy: 0.9764\n",
      "Epoch 36/100\n",
      "2637/2637 [==============================] - 31s 12ms/step - loss: 0.0426 - accuracy: 0.9860 - val_loss: 0.0914 - val_accuracy: 0.9764\n",
      "Epoch 37/100\n",
      "2637/2637 [==============================] - 31s 12ms/step - loss: 0.0485 - accuracy: 0.9852 - val_loss: 0.0954 - val_accuracy: 0.9764\n",
      "Epoch 38/100\n",
      "2637/2637 [==============================] - 31s 12ms/step - loss: 0.0437 - accuracy: 0.9852 - val_loss: 0.0758 - val_accuracy: 0.9764\n",
      "Epoch 39/100\n",
      "2637/2637 [==============================] - 31s 12ms/step - loss: 0.0541 - accuracy: 0.9807 - val_loss: 0.1033 - val_accuracy: 0.9742\n",
      "Epoch 40/100\n",
      "2637/2637 [==============================] - 31s 12ms/step - loss: 0.0472 - accuracy: 0.9856 - val_loss: 0.1346 - val_accuracy: 0.9657\n",
      "Epoch 41/100\n",
      "2637/2637 [==============================] - 31s 12ms/step - loss: 0.0520 - accuracy: 0.9837 - val_loss: 0.0827 - val_accuracy: 0.9828\n",
      "Epoch 42/100\n",
      "2637/2637 [==============================] - 31s 12ms/step - loss: 0.0394 - accuracy: 0.9871 - val_loss: 0.0803 - val_accuracy: 0.9785\n",
      "Epoch 43/100\n",
      "2637/2637 [==============================] - 31s 12ms/step - loss: 0.0378 - accuracy: 0.9875 - val_loss: 0.0973 - val_accuracy: 0.9742\n",
      "Epoch 44/100\n",
      "2637/2637 [==============================] - 31s 12ms/step - loss: 0.0366 - accuracy: 0.9882 - val_loss: 0.0855 - val_accuracy: 0.9807\n",
      "Epoch 45/100\n",
      "2637/2637 [==============================] - 31s 12ms/step - loss: 0.0385 - accuracy: 0.9886 - val_loss: 0.0943 - val_accuracy: 0.9785\n",
      "Epoch 46/100\n",
      "2637/2637 [==============================] - 31s 12ms/step - loss: 0.0427 - accuracy: 0.9848 - val_loss: 0.1051 - val_accuracy: 0.9700\n",
      "Epoch 47/100\n",
      "2637/2637 [==============================] - 31s 12ms/step - loss: 0.0440 - accuracy: 0.9871 - val_loss: 0.0912 - val_accuracy: 0.9785\n",
      "Epoch 48/100\n",
      "2637/2637 [==============================] - 34s 13ms/step - loss: 0.0313 - accuracy: 0.9905 - val_loss: 0.1009 - val_accuracy: 0.9785\n",
      "Epoch 49/100\n",
      "2637/2637 [==============================] - 32s 12ms/step - loss: 0.0334 - accuracy: 0.9905 - val_loss: 0.1034 - val_accuracy: 0.9721\n",
      "Epoch 50/100\n",
      "2637/2637 [==============================] - 32s 12ms/step - loss: 0.0301 - accuracy: 0.9905 - val_loss: 0.0814 - val_accuracy: 0.9764\n",
      "Epoch 51/100\n",
      "2637/2637 [==============================] - 31s 12ms/step - loss: 0.0457 - accuracy: 0.9856 - val_loss: 0.1072 - val_accuracy: 0.9742\n",
      "Epoch 52/100\n",
      "2637/2637 [==============================] - 32s 12ms/step - loss: 0.0380 - accuracy: 0.9871 - val_loss: 0.0959 - val_accuracy: 0.9785\n",
      "Epoch 53/100\n",
      "2637/2637 [==============================] - 32s 12ms/step - loss: 0.0288 - accuracy: 0.9901 - val_loss: 0.1089 - val_accuracy: 0.9764\n",
      "Epoch 54/100\n",
      "2637/2637 [==============================] - 32s 12ms/step - loss: 0.0250 - accuracy: 0.9928 - val_loss: 0.0801 - val_accuracy: 0.9785\n",
      "Epoch 55/100\n",
      "2637/2637 [==============================] - 35s 13ms/step - loss: 0.0295 - accuracy: 0.9901 - val_loss: 0.0744 - val_accuracy: 0.9764\n",
      "Epoch 56/100\n",
      "2637/2637 [==============================] - 33s 12ms/step - loss: 0.0252 - accuracy: 0.9913 - val_loss: 0.1037 - val_accuracy: 0.9678\n",
      "Epoch 57/100\n",
      "2637/2637 [==============================] - 32s 12ms/step - loss: 0.0274 - accuracy: 0.9917 - val_loss: 0.0908 - val_accuracy: 0.9785\n",
      "Epoch 58/100\n",
      "2637/2637 [==============================] - 32s 12ms/step - loss: 0.0281 - accuracy: 0.9913 - val_loss: 0.0814 - val_accuracy: 0.9807\n",
      "Epoch 59/100\n",
      "2637/2637 [==============================] - 32s 12ms/step - loss: 0.0226 - accuracy: 0.9936 - val_loss: 0.0821 - val_accuracy: 0.9807\n",
      "Epoch 60/100\n",
      "2637/2637 [==============================] - 32s 12ms/step - loss: 0.0253 - accuracy: 0.9909 - val_loss: 0.1152 - val_accuracy: 0.9785\n",
      "Epoch 61/100\n",
      "2637/2637 [==============================] - 32s 12ms/step - loss: 0.0294 - accuracy: 0.9917 - val_loss: 0.3438 - val_accuracy: 0.9056\n",
      "Epoch 62/100\n",
      "2637/2637 [==============================] - 32s 12ms/step - loss: 0.0286 - accuracy: 0.9909 - val_loss: 0.0809 - val_accuracy: 0.9807\n",
      "Epoch 63/100\n",
      "2637/2637 [==============================] - 33s 13ms/step - loss: 0.0236 - accuracy: 0.9920 - val_loss: 0.1061 - val_accuracy: 0.9592\n",
      "Epoch 64/100\n",
      "2637/2637 [==============================] - 33s 12ms/step - loss: 0.0221 - accuracy: 0.9936 - val_loss: 0.0950 - val_accuracy: 0.9764\n",
      "Epoch 65/100\n",
      "2637/2637 [==============================] - 32s 12ms/step - loss: 0.0223 - accuracy: 0.9932 - val_loss: 0.1143 - val_accuracy: 0.9764\n",
      "Epoch 66/100\n",
      "2637/2637 [==============================] - 35s 13ms/step - loss: 0.0357 - accuracy: 0.9879 - val_loss: 0.0939 - val_accuracy: 0.9785\n",
      "Epoch 67/100\n",
      "2637/2637 [==============================] - 33s 12ms/step - loss: 0.0176 - accuracy: 0.9939 - val_loss: 0.1038 - val_accuracy: 0.9807\n",
      "Epoch 68/100\n",
      "2637/2637 [==============================] - 34s 13ms/step - loss: 0.0178 - accuracy: 0.9951 - val_loss: 0.0985 - val_accuracy: 0.9678\n",
      "Epoch 69/100\n",
      "2637/2637 [==============================] - 32s 12ms/step - loss: 0.0165 - accuracy: 0.9951 - val_loss: 0.0847 - val_accuracy: 0.9764\n",
      "Epoch 70/100\n",
      "2637/2637 [==============================] - 32s 12ms/step - loss: 0.0214 - accuracy: 0.9932 - val_loss: 0.1030 - val_accuracy: 0.9764\n",
      "Epoch 71/100\n",
      "2637/2637 [==============================] - 32s 12ms/step - loss: 0.0247 - accuracy: 0.9913 - val_loss: 0.0832 - val_accuracy: 0.9807\n",
      "Epoch 72/100\n",
      "2637/2637 [==============================] - 33s 12ms/step - loss: 0.0233 - accuracy: 0.9920 - val_loss: 0.1202 - val_accuracy: 0.9700\n",
      "Epoch 73/100\n",
      "2637/2637 [==============================] - 32s 12ms/step - loss: 0.0279 - accuracy: 0.9905 - val_loss: 0.1735 - val_accuracy: 0.9592\n",
      "Epoch 74/100\n",
      "2637/2637 [==============================] - 33s 12ms/step - loss: 0.0257 - accuracy: 0.9905 - val_loss: 0.0807 - val_accuracy: 0.9764\n",
      "Epoch 75/100\n",
      "2637/2637 [==============================] - 32s 12ms/step - loss: 0.0143 - accuracy: 0.9954 - val_loss: 0.0990 - val_accuracy: 0.9785\n",
      "Epoch 76/100\n",
      "2637/2637 [==============================] - 32s 12ms/step - loss: 0.0154 - accuracy: 0.9943 - val_loss: 0.1111 - val_accuracy: 0.9764\n",
      "Epoch 77/100\n",
      "2637/2637 [==============================] - 32s 12ms/step - loss: 0.0143 - accuracy: 0.9954 - val_loss: 0.0949 - val_accuracy: 0.9807\n",
      "Epoch 78/100\n",
      "2637/2637 [==============================] - 32s 12ms/step - loss: 0.0131 - accuracy: 0.9962 - val_loss: 0.1108 - val_accuracy: 0.9807\n",
      "Epoch 79/100\n",
      "2637/2637 [==============================] - 32s 12ms/step - loss: 0.0137 - accuracy: 0.9943 - val_loss: 0.0931 - val_accuracy: 0.9828\n",
      "Epoch 80/100\n",
      "2637/2637 [==============================] - 32s 12ms/step - loss: 0.0101 - accuracy: 0.9970 - val_loss: 0.1057 - val_accuracy: 0.9807\n",
      "Epoch 81/100\n",
      "2637/2637 [==============================] - 32s 12ms/step - loss: 0.0104 - accuracy: 0.9962 - val_loss: 0.0960 - val_accuracy: 0.9764\n",
      "Epoch 82/100\n",
      "2637/2637 [==============================] - 32s 12ms/step - loss: 0.0123 - accuracy: 0.9958 - val_loss: 0.1132 - val_accuracy: 0.9807\n",
      "Epoch 83/100\n",
      "2637/2637 [==============================] - 32s 12ms/step - loss: 0.0087 - accuracy: 0.9970 - val_loss: 0.0969 - val_accuracy: 0.9807\n",
      "Epoch 84/100\n",
      "2637/2637 [==============================] - 33s 12ms/step - loss: 0.0110 - accuracy: 0.9962 - val_loss: 0.0972 - val_accuracy: 0.9785\n",
      "Epoch 85/100\n",
      "2637/2637 [==============================] - 33s 13ms/step - loss: 0.0089 - accuracy: 0.9970 - val_loss: 0.1031 - val_accuracy: 0.9828\n",
      "Epoch 86/100\n",
      "2637/2637 [==============================] - 32s 12ms/step - loss: 0.0107 - accuracy: 0.9958 - val_loss: 0.1120 - val_accuracy: 0.9828\n",
      "Epoch 87/100\n",
      "2637/2637 [==============================] - 34s 13ms/step - loss: 0.0112 - accuracy: 0.9951 - val_loss: 0.1032 - val_accuracy: 0.9807\n",
      "Epoch 88/100\n",
      "2637/2637 [==============================] - 33s 12ms/step - loss: 0.0097 - accuracy: 0.9962 - val_loss: 0.1175 - val_accuracy: 0.9785\n",
      "Epoch 89/100\n",
      "2637/2637 [==============================] - 33s 13ms/step - loss: 0.0092 - accuracy: 0.9966 - val_loss: 0.1088 - val_accuracy: 0.9828\n",
      "Epoch 90/100\n",
      "2637/2637 [==============================] - 33s 13ms/step - loss: 0.0103 - accuracy: 0.9954 - val_loss: 0.1165 - val_accuracy: 0.9785\n",
      "Epoch 91/100\n",
      "2637/2637 [==============================] - 32s 12ms/step - loss: 0.0118 - accuracy: 0.9958 - val_loss: 0.1042 - val_accuracy: 0.9764\n",
      "Epoch 92/100\n",
      "2637/2637 [==============================] - 34s 13ms/step - loss: 0.0116 - accuracy: 0.9954 - val_loss: 0.0960 - val_accuracy: 0.9828\n",
      "Epoch 93/100\n",
      "2637/2637 [==============================] - 33s 13ms/step - loss: 0.0149 - accuracy: 0.9951 - val_loss: 0.1027 - val_accuracy: 0.9785\n",
      "Epoch 94/100\n",
      "2637/2637 [==============================] - 32s 12ms/step - loss: 0.0119 - accuracy: 0.9962 - val_loss: 0.1349 - val_accuracy: 0.9764\n",
      "Epoch 95/100\n",
      "2637/2637 [==============================] - 32s 12ms/step - loss: 0.0202 - accuracy: 0.9932 - val_loss: 0.1063 - val_accuracy: 0.9807\n",
      "Epoch 96/100\n",
      "2637/2637 [==============================] - 31s 12ms/step - loss: 0.0172 - accuracy: 0.9939 - val_loss: 0.1217 - val_accuracy: 0.9764\n",
      "Epoch 97/100\n",
      "2637/2637 [==============================] - 31s 12ms/step - loss: 0.0368 - accuracy: 0.9860 - val_loss: 0.0977 - val_accuracy: 0.9807\n",
      "Epoch 98/100\n",
      "2637/2637 [==============================] - 31s 12ms/step - loss: 0.0118 - accuracy: 0.9951 - val_loss: 0.1096 - val_accuracy: 0.9807\n",
      "Epoch 99/100\n",
      "2637/2637 [==============================] - 33s 13ms/step - loss: 0.0158 - accuracy: 0.9954 - val_loss: 0.1586 - val_accuracy: 0.9657\n",
      "Epoch 100/100\n",
      "2637/2637 [==============================] - 33s 13ms/step - loss: 0.0140 - accuracy: 0.9947 - val_loss: 0.1144 - val_accuracy: 0.9828\n"
     ]
    }
   ],
   "source": [
    "history = model.fit(X_train, y_train, batch_size=1, epochs=100, verbose = 1, \n",
    "                    validation_data=(X_val,y_val))"
   ]
  },
  {
   "cell_type": "code",
   "execution_count": 8,
   "metadata": {},
   "outputs": [
    {
     "name": "stderr",
     "output_type": "stream",
     "text": [
      "WARNING:absl:Found untraced functions such as _jit_compiled_convolution_op, _jit_compiled_convolution_op, _jit_compiled_convolution_op, _jit_compiled_convolution_op, _jit_compiled_convolution_op while saving (showing 5 of 13). These functions will not be directly callable after loading.\n"
     ]
    },
    {
     "name": "stdout",
     "output_type": "stream",
     "text": [
      "INFO:tensorflow:Assets written to: models/cnn_128_epoch_100\\assets\n"
     ]
    },
    {
     "name": "stderr",
     "output_type": "stream",
     "text": [
      "INFO:tensorflow:Assets written to: models/cnn_128_epoch_100\\assets\n"
     ]
    }
   ],
   "source": [
    "model.save('models/cnn_128_epoch_100')"
   ]
  },
  {
   "cell_type": "code",
   "execution_count": 9,
   "metadata": {},
   "outputs": [
    {
     "data": {
      "image/png": "[encoded data removed]",
      "text/plain": [
       "<Figure size 640x480 with 1 Axes>"
      ]
     },
     "metadata": {},
     "output_type": "display_data"
    },
    {
     "data": {
      "image/png": "[encoded data removed]",
      "text/plain": [
       "<Figure size 640x480 with 1 Axes>"
      ]
     },
     "metadata": {},
     "output_type": "display_data"
    }
   ],
   "source": [
    "#plot the training and validation accuracy and loss at each epoch\n",
    "loss = history.history['loss']\n",
    "val_loss = history.history['val_loss']\n",
    "epochs = range(1, len(loss) + 1)\n",
    "plt.plot(epochs, loss, 'y', label='Training loss')\n",
    "plt.plot(epochs, val_loss, 'r', label='Validation loss')\n",
    "plt.title('Training and validation loss')\n",
    "plt.xlabel('Epochs')\n",
    "plt.ylabel('Loss')\n",
    "plt.legend()\n",
    "plt.show()\n",
    "\n",
    "\n",
    "acc = history.history['accuracy']\n",
    "val_acc = history.history['val_accuracy']\n",
    "plt.plot(epochs, acc, 'y', label='Training acc')\n",
    "plt.plot(epochs, val_acc, 'r', label='Validation acc')\n",
    "plt.title('Training and validation accuracy')\n",
    "plt.xlabel('Epochs')\n",
    "plt.ylabel('Accuracy')\n",
    "plt.legend()\n",
    "plt.show()"
   ]
  },
  {
   "cell_type": "markdown",
   "metadata": {},
   "source": [
    "# PREDICT"
   ]
  },
  {
   "cell_type": "code",
   "execution_count": 14,
   "metadata": {},
   "outputs": [],
   "source": [
    "# _, acc = model.evaluate(X_test, y_test)\n",
    "# print(\"Accuracy = \", (acc * 100.0), \"%\")\n",
    "\n",
    "# #Test on single image.\n",
    "# n=40  #Select the index of image to be loaded for testing\n",
    "# img = X_test[n]\n",
    "# plt.imshow(img)\n",
    "# input_img = np.expand_dims(img, axis=0) #Expand dims so the input is (num images, x, y, c)\n",
    "# print(\"The prediction for this image is: \", np.argmax(model.predict(input_img)))\n",
    "# print(\"The actual label for this image is: \", np.argmax(y_test[n]))\n",
    "# model.predict(input_img)"
   ]
  },
  {
   "cell_type": "code",
   "execution_count": 22,
   "metadata": {},
   "outputs": [
    {
     "name": "stdout",
     "output_type": "stream",
     "text": [
      "9/9 [==============================] - 1s 82ms/step\n"
     ]
    }
   ],
   "source": [
    "y_pred = np.argmax(model.predict(X_test), axis=1)\n",
    "y_test = np.argmax(y_test, axis=1)"
   ]
  },
  {
   "cell_type": "code",
   "execution_count": 23,
   "metadata": {},
   "outputs": [
    {
     "data": {
      "text/plain": [
       "(281,)"
      ]
     },
     "execution_count": 23,
     "metadata": {},
     "output_type": "execute_result"
    }
   ],
   "source": [
    "y_pred.shape"
   ]
  },
  {
   "cell_type": "code",
   "execution_count": 24,
   "metadata": {},
   "outputs": [
    {
     "name": "stdout",
     "output_type": "stream",
     "text": [
      "Accuracy: 0.9715302491103203\n",
      "F1 Score: 0.9776536312849162\n",
      "Recall: 0.9562841530054644\n",
      "Precision: 1.0\n",
      "Classification Report:\n",
      "               precision    recall  f1-score   support\n",
      "\n",
      "           0       0.92      1.00      0.96        98\n",
      "           1       1.00      0.96      0.98       183\n",
      "\n",
      "    accuracy                           0.97       281\n",
      "   macro avg       0.96      0.98      0.97       281\n",
      "weighted avg       0.97      0.97      0.97       281\n",
      "\n",
      "Confusion Matrix:\n",
      " [[ 98   0]\n",
      " [  8 175]]\n"
     ]
    }
   ],
   "source": [
    "from sklearn.metrics import accuracy_score, classification_report, confusion_matrix\n",
    "\n",
    "from sklearn.metrics import f1_score, recall_score, precision_score\n",
    "\n",
    "accuracy = accuracy_score(y_test, y_pred)\n",
    "print(\"Accuracy:\", accuracy)\n",
    "\n",
    "# Calculate F1 score\n",
    "f1 = f1_score(y_test, y_pred)\n",
    "print(\"F1 Score:\", f1)\n",
    "\n",
    "# Calculate Recall\n",
    "recall = recall_score(y_test, y_pred)\n",
    "print(\"Recall:\", recall)\n",
    "\n",
    "# Calculate Precision\n",
    "precision = precision_score(y_test, y_pred)\n",
    "print(\"Precision:\", precision)\n",
    "\n",
    "\n",
    "report = classification_report(y_test, y_pred)\n",
    "print(\"Classification Report:\\n\", report)\n",
    "\n",
    "conf_mat = confusion_matrix(y_test, y_pred)\n",
    "print(\"Confusion Matrix:\\n\", conf_mat)"
   ]
  },
  {
   "cell_type": "code",
   "execution_count": 26,
   "metadata": {},
   "outputs": [
    {
     "name": "stdout",
     "output_type": "stream",
     "text": [
      "9/9 [==============================] - 1s 96ms/step\n"
     ]
    },
    {
     "data": {
      "text/plain": [
       "<Axes: >"
      ]
     },
     "execution_count": 26,
     "metadata": {},
     "output_type": "execute_result"
    },
    {
     "data": {
      "image/png": "[encoded data removed]",
      "text/plain": [
       "<Figure size 640x480 with 2 Axes>"
      ]
     },
     "metadata": {},
     "output_type": "display_data"
    }
   ],
   "source": [
    "from sklearn.metrics import confusion_matrix\n",
    "import seaborn as sns\n",
    "\n",
    "y_pred = np.argmax(model.predict(X_test), axis=1)\n",
    "cm=confusion_matrix(y_test, y_pred)  \n",
    "sns.heatmap(cm, annot=True)"
   ]
  },
  {
   "cell_type": "markdown",
   "metadata": {},
   "source": [
    "# PREDICT ON TEST"
   ]
  },
  {
   "cell_type": "code",
   "execution_count": 28,
   "metadata": {},
   "outputs": [],
   "source": [
    "defect_path = 'DATA/test/defect'\n",
    "normal_path = 'DATA/test/normal'\n",
    "\n",
    "all_defect_path = 'DATA/defects/images'\n",
    "size = 128\n",
    "\n",
    "\n",
    "# Load dataset\n",
    "def load_dataset(defect_path, normal_path, size=256):\n",
    "    images_temp = []\n",
    "    labels_temp = []\n",
    "    for file in os.listdir(defect_path):\n",
    "        img = Image.open(os.path.join(defect_path, file))\n",
    "        img = img.resize((size, size))  \n",
    "        img = np.array(img) / 255.0  \n",
    "        images_temp.append(img)\n",
    "        labels_temp.append(1)  \n",
    "\n",
    "    for file in os.listdir(normal_path):\n",
    "        img = Image.open(os.path.join(normal_path, file))\n",
    "        img = img.resize((size, size))  \n",
    "        img = np.array(img) / 255.0  \n",
    "        images_temp.append(img)\n",
    "        labels_temp.append(0) \n",
    "\n",
    "    return np.array(images_temp), np.array(labels_temp)\n",
    "\n",
    "# Split dataset into training and testing sets\n",
    "images_test, labels_test = load_dataset(defect_path, normal_path, size)"
   ]
  },
  {
   "cell_type": "code",
   "execution_count": 29,
   "metadata": {},
   "outputs": [
    {
     "name": "stdout",
     "output_type": "stream",
     "text": [
      "7/7 [==============================] - 2s 248ms/step\n"
     ]
    }
   ],
   "source": [
    "y_pred = np.argmax(model.predict(images_test), axis=1)\n"
   ]
  },
  {
   "cell_type": "code",
   "execution_count": 31,
   "metadata": {},
   "outputs": [
    {
     "name": "stdout",
     "output_type": "stream",
     "text": [
      "Accuracy: 0.975\n",
      "F1 Score: 0.9743589743589743\n",
      "Recall: 0.95\n",
      "Precision: 1.0\n",
      "Classification Report:\n",
      "               precision    recall  f1-score   support\n",
      "\n",
      "           0       0.95      1.00      0.98       100\n",
      "           1       1.00      0.95      0.97       100\n",
      "\n",
      "    accuracy                           0.97       200\n",
      "   macro avg       0.98      0.97      0.97       200\n",
      "weighted avg       0.98      0.97      0.97       200\n",
      "\n",
      "Confusion Matrix:\n",
      " [[100   0]\n",
      " [  5  95]]\n"
     ]
    }
   ],
   "source": [
    "from sklearn.metrics import accuracy_score, classification_report, confusion_matrix\n",
    "\n",
    "from sklearn.metrics import f1_score, recall_score, precision_score\n",
    "\n",
    "accuracy = accuracy_score(labels_test, y_pred)\n",
    "print(\"Accuracy:\", accuracy)\n",
    "\n",
    "# Calculate F1 score\n",
    "f1 = f1_score(labels_test, y_pred)\n",
    "print(\"F1 Score:\", f1)\n",
    "\n",
    "# Calculate Recall\n",
    "recall = recall_score(labels_test, y_pred)\n",
    "print(\"Recall:\", recall)\n",
    "\n",
    "# Calculate Precision\n",
    "precision = precision_score(labels_test, y_pred)\n",
    "print(\"Precision:\", precision)\n",
    "\n",
    "\n",
    "report = classification_report(labels_test, y_pred)\n",
    "print(\"Classification Report:\\n\", report)\n",
    "\n",
    "conf_mat = confusion_matrix(labels_test, y_pred)\n",
    "print(\"Confusion Matrix:\\n\", conf_mat)"
   ]
  }
 ],
 "metadata": {
  "kernelspec": {
   "display_name": "ml",
   "language": "python",
   "name": "python3"
  },
  "language_info": {
   "codemirror_mode": {
    "name": "ipython",
    "version": 3
   },
   "file_extension": ".py",
   "mimetype": "text/x-python",
   "name": "python",
   "nbconvert_exporter": "python",
   "pygments_lexer": "ipython3",
   "version": "3.8.18"
  }
 },
 "nbformat": 4,
 "nbformat_minor": 2
}
